{
 "cells": [
  {
   "cell_type": "markdown",
   "metadata": {},
   "source": [
    "# Object-Oriented-Programming (OOP)"
   ]
  },
  {
   "cell_type": "markdown",
   "metadata": {},
   "source": [
    "## Tasks Today:\n",
    "\n",
    "   \n",
    "\n",
    "1) <b>Creating a Class (Initializing/Declaring)</b> <br>\n",
    "2) <b>Using a Class (Instantiating)</b> <br>\n",
    " &nbsp;&nbsp;&nbsp;&nbsp; a) Creating One Instance <br>\n",
    " &nbsp;&nbsp;&nbsp;&nbsp; b) Creating Multiple Instances <br>\n",
    " &nbsp;&nbsp;&nbsp;&nbsp; c) In-Class Exercise #1 - Create a Class 'Car' and instantiate three different makes of cars <br>\n",
    "3) <b>The \\__init\\__() Method</b> <br>\n",
    " &nbsp;&nbsp;&nbsp;&nbsp; a) The 'self' Attribute <br>\n",
    "4) <b>Class Attributes</b> <br>\n",
    " &nbsp;&nbsp;&nbsp;&nbsp; a) Initializing Attributes <br>\n",
    " &nbsp;&nbsp;&nbsp;&nbsp; b) Setting an Attribute Outside of the \\__init\\__() Method <br>\n",
    " &nbsp;&nbsp;&nbsp;&nbsp; c) Setting Defaults for Attributes <br>\n",
    " &nbsp;&nbsp;&nbsp;&nbsp; d) Accessing Class Attributes <br>\n",
    " &nbsp;&nbsp;&nbsp;&nbsp; e) Changing Class Attributes <br>\n",
    " &nbsp;&nbsp;&nbsp;&nbsp; f) In-Class Exercise #2 - Add a color and wheels attribute to your 'Car' class <br>\n",
    "5) <b>Class Methods</b> <br>\n",
    " &nbsp;&nbsp;&nbsp;&nbsp; a) Creating <br>\n",
    " &nbsp;&nbsp;&nbsp;&nbsp; b) Calling <br>\n",
    " &nbsp;&nbsp;&nbsp;&nbsp; c) Modifying an Attribute's Value Through a Method <br>\n",
    " &nbsp;&nbsp;&nbsp;&nbsp; d) Incrementing an Attribute's Value Through a Method <br>\n",
    " &nbsp;&nbsp;&nbsp;&nbsp; e) In-Class Exercise #3 - Add a method that prints the cars color and wheel number, then call them <br>\n",
    "6) <b>Inheritance</b> <br>\n",
    " &nbsp;&nbsp;&nbsp;&nbsp; a) Syntax for Inheriting from a Parent Class <br>\n",
    " &nbsp;&nbsp;&nbsp;&nbsp; b) The \\__init\\__() Method for a Child Class (super()) <br>\n",
    " &nbsp;&nbsp;&nbsp;&nbsp; c) Defining Attributes and Methods for the Child Class <br>\n",
    " &nbsp;&nbsp;&nbsp;&nbsp; d) Method Overriding <br>\n",
    " &nbsp;&nbsp;&nbsp;&nbsp; e) In-Class Exercise #4 - Create a class 'Ford' that inherits from 'Car' class and initialize it as a Blue Ford Explorer with 4 wheels using the super() method <br>\n",
    "7) <b>Classes as Attributes</b> <br>\n",
    "8) <b>Exercises</b> <br>\n",
    " &nbsp;&nbsp;&nbsp;&nbsp; a) Exercise #1 - Turn the shopping cart program from yesterday into an object-oriented program <br>"
   ]
  },
  {
   "cell_type": "markdown",
   "metadata": {},
   "source": [
    "## Creating a Class (Initializing/Declaring)\n",
    "<p>When creating a class, function, or even a variable you are initializing that object. Initializing and Declaring occur at the same time in Python, whereas in lower level languages you have to declare an object before initializing it. This is the first step in the process of using a class.</p>"
   ]
  },
  {
   "cell_type": "code",
   "execution_count": 1,
   "metadata": {},
   "outputs": [],
   "source": [
    "\n",
    "class Ford():\n",
    "    wheels= 4\n",
    "    color= \"blue\"\n",
    "    \n"
   ]
  },
  {
   "cell_type": "markdown",
   "metadata": {},
   "source": [
    "## Using a Class (Instantiating)\n",
    "<p>The process of creating a class is called <i>Instantiating</i>. Each time you create a variable of that type of class, it is referred to as an <i>Instance</i> of that class. This is the second step in the process of using a class.</p>"
   ]
  },
  {
   "cell_type": "markdown",
   "metadata": {},
   "source": [
    "##### Creating One Instance"
   ]
  },
  {
   "cell_type": "code",
   "execution_count": 2,
   "metadata": {},
   "outputs": [
    {
     "name": "stdout",
     "output_type": "stream",
     "text": [
      "<__main__.Ford object at 0x10a288d10>\n"
     ]
    }
   ],
   "source": [
    "fusion= Ford()\n",
    "\n",
    "print(fusion)\n"
   ]
  },
  {
   "cell_type": "markdown",
   "metadata": {},
   "source": [
    "##### Creating Multiple Instances"
   ]
  },
  {
   "cell_type": "code",
   "execution_count": 3,
   "metadata": {},
   "outputs": [],
   "source": [
    "f_150= Ford()\n",
    "explorer= Ford()\n",
    "mustang= Ford()\n"
   ]
  },
  {
   "cell_type": "markdown",
   "metadata": {},
   "source": [
    "##### In-Class Exercise #1 - Create a Class 'Car' and Instantiate three different makes of cars"
   ]
  },
  {
   "cell_type": "code",
   "execution_count": 28,
   "metadata": {},
   "outputs": [],
   "source": [
    "class Car:\n",
    "    def __init__(self,make):\n",
    "        self.make = make\n",
    "\n",
    "Car1 = Car(\"Chevy\")\n",
    "Car2 = Car(\"honda\")\n",
    "Car3 = Car(\"ford\")\n"
   ]
  },
  {
   "cell_type": "markdown",
   "metadata": {},
   "source": [
    "## The \\__init\\__() Method <br>\n",
    "<p>This method is used in almost every created class, and called only once upon the creation of the class instance. This method will initialize all variables needed for the object.</p>"
   ]
  },
  {
   "cell_type": "code",
   "execution_count": 4,
   "metadata": {},
   "outputs": [
    {
     "name": "stdout",
     "output_type": "stream",
     "text": [
      "4\n"
     ]
    }
   ],
   "source": [
    "class Ford():\n",
    "    wheels= 4\n",
    "    \n",
    "    def __init__(self, year, color, engine): #Instance attributes \n",
    "        self.year = year\n",
    "        self.color = color\n",
    "        self.engine = engine\n",
    "\n",
    "\n",
    "fusion =Ford(\"2017\", \"white\", \"v4\")\n",
    "\n",
    "print(fusion.wheels)\n",
    "\n"
   ]
  },
  {
   "cell_type": "markdown",
   "metadata": {},
   "source": [
    "##### The 'self' Attribute <br>\n",
    "<p>This attribute is required to keep track of specific instance's attributes. Without the self attribute, the program would not know how to reference or keep track of an instance's attributes.</p>"
   ]
  },
  {
   "cell_type": "code",
   "execution_count": 6,
   "metadata": {},
   "outputs": [],
   "source": [
    "# see above"
   ]
  },
  {
   "cell_type": "markdown",
   "metadata": {},
   "source": [
    "## Class Attributes <br>\n",
    "<p>While variables are inside of a class, they are referred to as attributes and not variables. When someone says 'attribute' you know they're speaking about a class. Attributes can be initialized through the init method, or outside of it.</p>"
   ]
  },
  {
   "cell_type": "markdown",
   "metadata": {},
   "source": [
    "##### Initializing Attributes"
   ]
  },
  {
   "cell_type": "code",
   "execution_count": 10,
   "metadata": {},
   "outputs": [
    {
     "name": "stdout",
     "output_type": "stream",
     "text": [
      "4\n"
     ]
    }
   ],
   "source": [
    "# see above\n",
    " "
   ]
  },
  {
   "cell_type": "markdown",
   "metadata": {},
   "source": [
    "##### Accessing Class Attributes"
   ]
  },
  {
   "cell_type": "code",
   "execution_count": 8,
   "metadata": {
    "scrolled": true
   },
   "outputs": [
    {
     "name": "stdout",
     "output_type": "stream",
     "text": [
      "4\n"
     ]
    }
   ],
   "source": [
    "# See Above\n",
    "print(fusion.wheels)"
   ]
  },
  {
   "cell_type": "markdown",
   "metadata": {},
   "source": [
    "##### Setting Defaults for Attributes"
   ]
  },
  {
   "cell_type": "code",
   "execution_count": 16,
   "metadata": {},
   "outputs": [
    {
     "name": "stdout",
     "output_type": "stream",
     "text": [
      "4\n",
      "6\n"
     ]
    }
   ],
   "source": [
    "class Ford():\n",
    "    #class attribute\n",
    "    \n",
    "    def __init__(self, year, color, engine, wheels = 4): #Instance attributes \n",
    "        self.year = year\n",
    "        self.color = color\n",
    "        self.engine = engine\n",
    "        self.wheels = wheels\n",
    "        \n",
    "fusion =Ford(\"2017\", \"white\", \"v4\")\n",
    "tow_truck =Ford(\"1987\", \"rust\", \"diesel\", \"6\")\n",
    "\n",
    "print(fusion.wheels)\n",
    "print(tow_truck.wheels)\n"
   ]
  },
  {
   "attachments": {},
   "cell_type": "markdown",
   "metadata": {},
   "source": [
    "##### Changing Instance Attributes <br>\n",
    "<p>Keep in mind there are global class attributes and then there are attributes only available to each class instance which won't effect other classes.</p>"
   ]
  },
  {
   "cell_type": "code",
   "execution_count": 17,
   "metadata": {},
   "outputs": [
    {
     "name": "stdout",
     "output_type": "stream",
     "text": [
      "white\n",
      "red\n"
     ]
    }
   ],
   "source": [
    "# see above\n",
    "print(fusion.color)\n",
    "fusion.color =\"red\"\n",
    "print(fusion.color)\n"
   ]
  },
  {
   "cell_type": "markdown",
   "metadata": {},
   "source": [
    "##### In-Class Exercise #2 - Add a doors and seats attribute to your 'Car' class then print out two different instances with different doors and seats"
   ]
  },
  {
   "cell_type": "code",
   "execution_count": 33,
   "metadata": {},
   "outputs": [
    {
     "name": "stdout",
     "output_type": "stream",
     "text": [
      "Car 1:\n",
      "Make: Chevy\n",
      "Doors: 4\n",
      "Seats: 5\n",
      "Car2:\n",
      "Make: Chevy\n",
      "Doors: 4\n",
      "Seats: 5\n"
     ]
    }
   ],
   "source": [
    "class Car:\n",
    "    def __init__(self,make,doors, seats):\n",
    "        self.make= make\n",
    "        self.doors= doors\n",
    "        self.seats= seats\n",
    "\n",
    "car1= Car(\"Chevy\", 4,5)\n",
    "car2= Car(\"Honda\", 2,2)\n",
    "\n",
    "print(\"Car 1:\")\n",
    "print(\"Make:\", car1.make)\n",
    "print(\"Doors:\", car1.doors)\n",
    "print(\"Seats:\", car1.seats)\n",
    "\n",
    "print(\"Car2:\")\n",
    "print(\"Make:\", car1.make)\n",
    "print(\"Doors:\", car1.doors)\n",
    "print(\"Seats:\", car1.seats)\n"
   ]
  },
  {
   "cell_type": "markdown",
   "metadata": {},
   "source": [
    "## Class Methods <br>\n",
    "<p>While inside of a class, functions are referred to as 'methods'. If you hear someone mention methods, they're speaking about classes. Methods are essentially functions, but only callable on the instances of a class.</p>"
   ]
  },
  {
   "cell_type": "markdown",
   "metadata": {},
   "source": [
    "##### Creating"
   ]
  },
  {
   "cell_type": "code",
   "execution_count": 39,
   "metadata": {},
   "outputs": [
    {
     "name": "stdout",
     "output_type": "stream",
     "text": [
      "This 4 wheeled vehicle, is white and has a v4engine>\n",
      "This 6 wheeled vehicle, is rust and has a dieselengine>\n",
      "You car color to green\n"
     ]
    },
    {
     "data": {
      "text/plain": [
       "'green'"
      ]
     },
     "execution_count": 39,
     "metadata": {},
     "output_type": "execute_result"
    }
   ],
   "source": [
    "class Ford:\n",
    "    #class attribute\n",
    "    def __init__(self, year, color, engine, wheels = 4): #Instance attributes \n",
    "        self.year = year\n",
    "        self.color = color\n",
    "        self.engine = engine\n",
    "        self.wheels = wheels\n",
    "    \n",
    "    def info(self):\n",
    "        print(f\"This {self.wheels} wheeled vehicle, is {self.color} and has a {self.engine}engine>\")\n",
    "\n",
    "    def paint_job(self, new_color):\n",
    "        self.color = new_color\n",
    "        print(f\"You car color to {new_color}\")\n",
    "\n",
    "    def get_wide(self):\n",
    "        self.wheels += 2\n",
    "        print(\"GET WIDE!\")\n",
    "\n",
    "\n",
    "fusion = Ford(\"2017\", \"white\", \"v4\")\n",
    "tow_truck = Ford(\"1987\", \"rust\", \"diesel\", 8)\n",
    "\n",
    "fusion.info()\n",
    "tow_truck.info()\n",
    "\n",
    "fusion.paint_job(\"green\")\n",
    "fusion.color\n",
    "\n",
    "\n",
    "\n",
    "\n",
    "\n",
    "\n",
    "\n",
    "\n",
    "\n",
    "\n"
   ]
  },
  {
   "cell_type": "markdown",
   "metadata": {},
   "source": []
  },
  {
   "cell_type": "markdown",
   "metadata": {},
   "source": [
    "##### Calling"
   ]
  },
  {
   "cell_type": "code",
   "execution_count": null,
   "metadata": {},
   "outputs": [],
   "source": [
    "# See Above"
   ]
  },
  {
   "cell_type": "markdown",
   "metadata": {},
   "source": [
    "##### Modifying an Attribute's Value Through a Method"
   ]
  },
  {
   "cell_type": "code",
   "execution_count": null,
   "metadata": {},
   "outputs": [],
   "source": [
    "# see above\n",
    "fusion.paint_job(\"green\")\n",
    "fusion.color"
   ]
  },
  {
   "cell_type": "markdown",
   "metadata": {},
   "source": [
    "##### Incrementing an Attribute's Value Through a Method"
   ]
  },
  {
   "cell_type": "code",
   "execution_count": 42,
   "metadata": {},
   "outputs": [
    {
     "name": "stdout",
     "output_type": "stream",
     "text": [
      "GET WIDE!\n",
      "12\n"
     ]
    }
   ],
   "source": [
    "# see above\n",
    "tow_truck.get_wide()\n",
    "print(tow_truck.wheels)\n"
   ]
  },
  {
   "cell_type": "markdown",
   "metadata": {},
   "source": [
    "## Inheritance <br>\n",
    "<p>You can create a child-parent relationship between two classes by using inheritance. What this allows you to do is have overriding methods, but also inherit traits from the parent class. Think of it as an actual parent and child, the child will inherit the parent's genes, as will the classes in OOP</p>"
   ]
  },
  {
   "cell_type": "markdown",
   "metadata": {},
   "source": [
    "##### Syntax for Inheriting from a Parent Class"
   ]
  },
  {
   "cell_type": "code",
   "execution_count": 81,
   "metadata": {},
   "outputs": [
    {
     "name": "stdout",
     "output_type": "stream",
     "text": [
      "Hi, I'm Christian and I'm 67 years old!\n",
      "You have no power here, BE GONE!\n",
      "Christian has been BANNED!\n",
      "You have no power here, BE GONE!\n",
      "Hi, I'm Dylan and I'm 100 years old!\n",
      "I'm also an admin here if you need anything\n"
     ]
    }
   ],
   "source": [
    "class user():\n",
    "    admin = False\n",
    "    banned = False\n",
    "    \n",
    "    def __init__(self, username, password, age):\n",
    "        self.username = username\n",
    "        self.password = password\n",
    "        self.age = age\n",
    "    \n",
    "    def info(self):\n",
    "        if self.banned:\n",
    "            print(\"You have no power here, BE GONE!\")\n",
    "            return \n",
    "        print(f\"Hi, I\\'m {self.username} and I\\'m {self.age} years old!\")\n",
    "        if self.admin:\n",
    "            print(\"I\\'m also an admin here if you need anything\")\n",
    "\n",
    "    def post(self,post):\n",
    "            print(\"You have no power here, BE GONE!\")\n",
    "            return \n",
    "            print(f\"{self.username}: {post}\")\n",
    "    \n",
    "        \n",
    "class Admin(user):\n",
    "\n",
    "    admin = True\n",
    "\n",
    "    def __init__(self, username, password, age, calendar=\"\"):\n",
    "        super().__init__(username, password, age)\n",
    "        self.calendar= calendar\n",
    "\n",
    "    def set_calendar(self, url):\n",
    "        self.calendar = url \n",
    "        print(\"Calendar saved\")\n",
    "\n",
    "    def ban_user(self, user):\n",
    "        user.banned = True\n",
    "\n",
    "        print(f\"{user.username} has been BANNED!\")\n",
    "\n",
    "christian = user(\"Christian\", \"password\", 67)\n",
    "\n",
    "christian.info()\n",
    "\n",
    "christian.post(\"I think I\\'d like to have some waffles!\")\n",
    "\n",
    "dylan = Admin(\"Dylan\", \"jdlkajdlajdlaj\", 100)\n",
    "\n",
    "dylan.ban_user(christian)\n",
    "\n",
    "christian.post (\"Waffles\")\n",
    "\n",
    "dylan.info()\n",
    "\n",
    "\n",
    "\n"
   ]
  },
  {
   "cell_type": "markdown",
   "metadata": {},
   "source": [
    "##### The \\__init\\__() Method for a Child Class - super()"
   ]
  },
  {
   "cell_type": "code",
   "execution_count": null,
   "metadata": {
    "scrolled": true
   },
   "outputs": [],
   "source": [
    "# see above"
   ]
  },
  {
   "cell_type": "markdown",
   "metadata": {},
   "source": [
    "##### Defining Attributes and Methods for the Child Class"
   ]
  },
  {
   "cell_type": "code",
   "execution_count": null,
   "metadata": {},
   "outputs": [],
   "source": [
    "# See Above"
   ]
  },
  {
   "cell_type": "markdown",
   "metadata": {},
   "source": [
    "# Exercises"
   ]
  },
  {
   "cell_type": "markdown",
   "metadata": {},
   "source": [
    "### Exercise 1 - Turn the shopping cart program from yesterday into an object-oriented program\n",
    "\n",
    "The comments in the cell below are there as a guide for thinking about the problem. However, if you feel a different way is best for you and your own thought process, please do what feels best for you by all means."
   ]
  },
  {
   "cell_type": "code",
   "execution_count": 92,
   "metadata": {},
   "outputs": [],
   "source": [
    "# Create a class called cart that retains items and has methods to add, remove, and show\n",
    "\n",
    "class Cart:\n",
    "    def __init__(self):\n",
    "        self.items={}\n",
    "\n",
    "    def add_item(self, item, quantity):\n",
    "        if item in self.items:\n",
    "            self.items[items] += quantity\n",
    "        else:\n",
    "            self.items[items] = quantity\n",
    "\n",
    "    def remove_item(self, item, quantity):\n",
    "        if item in self.items:\n",
    "            if quantity >= self.items[item]:\n",
    "                del self.items[item]\n",
    "            else:\n",
    "                self.items[item] -= quantity\n",
    "\n",
    "    def show_cart(self):\n",
    "        print(\"Shopping cart:\")\n",
    "        for item, quantity in self.items.items():\n",
    "            if quantity > 0:\n",
    "                print(f\"{item}: {quantity}\")\n",
    "\n",
    "    def shopping_cart():\n",
    "        cart = Cart()\n",
    "        while True:\n",
    "            action = input(\"Enter an action (add/remove/show/quit):\")\n",
    "            if action ==\"add\":\n",
    "                item = input(\"Enter the item:\")\n",
    "                quantity = int(input(\"Enter the quantity to remove:\"))\n",
    "                cart.remove_item(item, quantity)\n",
    "            elif action == \"remove\":\n",
    "                item = input(\"Enter the item:\")\n",
    "                quantity = int(input(\"Enter the quantity to remove:\"))\n",
    "                cart.remove_item(item,quantity)\n",
    "            elif action == \"show\":\n",
    "                cart.show_cart()\n",
    "            elif action == \"quit\":\n",
    "                break\n",
    "            else:\n",
    "                print(\"Invalid action. Please try again.\")\n",
    "\n",
    "        print(\"Items in the cart:\")\n",
    "        cart.show_cart()\n",
    "               \n",
    "\n",
    "\n",
    "\n",
    "\n",
    "\n",
    "    \n",
    "\n",
    "\n",
    "\n",
    "\n",
    "\n",
    "\n",
    "\n",
    "\n",
    "\n",
    "\n",
    "\n"
   ]
  },
  {
   "cell_type": "markdown",
   "metadata": {},
   "source": [
    "### Exercise 2 - Write a Python class which has two methods get_String and print_String. get_String accept a string from the user and print_String print the string in upper case"
   ]
  },
  {
   "cell_type": "code",
   "execution_count": 101,
   "metadata": {},
   "outputs": [
    {
     "name": "stdout",
     "output_type": "stream",
     "text": [
      "STRING\n"
     ]
    }
   ],
   "source": [
    "class IOString():\n",
    "    def __init__(self):\n",
    "        self.str1 = \"\"\n",
    "\n",
    "    def get_String(self):\n",
    "        self.str1 = input()\n",
    "\n",
    "    def print_String(self):\n",
    "        print(self.str1.upper())\n",
    "\n",
    "\n",
    "str1 = IOString()\n",
    "str1.get_String()\n",
    "str1.print_String()\n",
    "\n",
    "\n",
    "\n",
    "\n",
    " \n",
    "\n"
   ]
  }
 ],
 "metadata": {
  "kernelspec": {
   "display_name": "Python 3",
   "language": "python",
   "name": "python3"
  },
  "language_info": {
   "codemirror_mode": {
    "name": "ipython",
    "version": 3
   },
   "file_extension": ".py",
   "mimetype": "text/x-python",
   "name": "python",
   "nbconvert_exporter": "python",
   "pygments_lexer": "ipython3",
   "version": "3.11.5"
  },
  "vscode": {
   "interpreter": {
    "hash": "aa82987a71ca0339a52998cd22613b0c002bda8349fa32a0cb67ceec3936a2bf"
   }
  }
 },
 "nbformat": 4,
 "nbformat_minor": 2
}
